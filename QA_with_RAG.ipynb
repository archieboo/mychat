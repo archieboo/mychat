{
 "cells": [
  {
   "cell_type": "code",
   "execution_count": 1,
   "metadata": {},
   "outputs": [],
   "source": [
    "import os\n",
    "import sys"
   ]
  },
  {
   "cell_type": "code",
   "execution_count": 2,
   "metadata": {},
   "outputs": [
    {
     "data": {
      "text/plain": [
       "'/Users/chao/github/mychat'"
      ]
     },
     "execution_count": 2,
     "metadata": {},
     "output_type": "execute_result"
    }
   ],
   "source": [
    "os.getcwd()"
   ]
  },
  {
   "cell_type": "code",
   "execution_count": 6,
   "metadata": {},
   "outputs": [],
   "source": [
    "sys.path.append(os.path.join(os.getcwd(), 'donotsync'))\n",
    "import authentications"
   ]
  },
  {
   "cell_type": "code",
   "execution_count": 7,
   "metadata": {},
   "outputs": [],
   "source": [
    "os.environ[\"OPENAI_API_KEY\"] = authentications.APIKEY"
   ]
  },
  {
   "cell_type": "code",
   "execution_count": 24,
   "metadata": {},
   "outputs": [],
   "source": [
    "from langchain_community.document_loaders.text import TextLoader\n",
    "loader = TextLoader('data/CHAO_DAI_cv.txt')"
   ]
  },
  {
   "cell_type": "code",
   "execution_count": 39,
   "metadata": {},
   "outputs": [],
   "source": [
    "from langchain_community.document_loaders.directory import DirectoryLoader\n",
    "loaderdir = DirectoryLoader('data', \"*.txt\")"
   ]
  },
  {
   "cell_type": "code",
   "execution_count": 29,
   "metadata": {},
   "outputs": [
    {
     "data": {
      "text/plain": [
       "1"
      ]
     },
     "execution_count": 29,
     "metadata": {},
     "output_type": "execute_result"
    }
   ],
   "source": [
    "docs = loader.load()\n",
    "len(docs)"
   ]
  },
  {
   "cell_type": "code",
   "execution_count": 41,
   "metadata": {},
   "outputs": [
    {
     "name": "stderr",
     "output_type": "stream",
     "text": [
      "[nltk_data] Downloading package punkt to /Users/chao/nltk_data...\n",
      "[nltk_data]   Unzipping tokenizers/punkt.zip.\n",
      "[nltk_data] Downloading package averaged_perceptron_tagger to\n",
      "[nltk_data]     /Users/chao/nltk_data...\n",
      "[nltk_data]   Unzipping taggers/averaged_perceptron_tagger.zip.\n"
     ]
    }
   ],
   "source": [
    "docs = loaderdir.load_and_split()"
   ]
  },
  {
   "cell_type": "code",
   "execution_count": 42,
   "metadata": {},
   "outputs": [
    {
     "data": {
      "text/plain": [
       "[Document(page_content='Pervasive effects of sQTLs on gene expression levels The prevalence of unproductive splicing, along with the observation that unproductive splicing anti-correlates with gene expression levels genomewide, predicts that genetic effects on RNA splicing would often impact RNA expression levels. To test this prediction, we used quantitative trait loci (QTL) mapping to identify genetic variants associated with expression (eQTLs) and splicing (splice junction abundance, sQTLs) in naRNA-seq, 4sU-seq and steady-state RNA-seq data. To better distinguish splicing-mediated expression effects from transcriptional effects, we mapped histone QTLs (hQTLs), reflective of variants impacting promoter and enhancer activity (H3K27ac, H3K4me1, and H3K4me3) and transcription across gene bodies (H3K36me3). In total, we identified 57,981 QTLs for 620,020 tested molecular traits. Consistent with previous work, we find a large fraction of eQTLs are explained by transcriptional regulation, as indicated by the high degree of sharing between eQTL and hQTL signals. For example, we estimate that 67% of eQTLs (steady-state RNA) contain hQTL effects at the gene’s promoter (Storey’s 𝜋1 = 0.67), consistent with transcriptional regulation.\\n\\nAs expected, we observe a strong concordance in the direction of hQTL and eQTL effects, wherein hQTL alleles that increase H3K27ac signal at the promoter overwhelmingly have corresponding up-regulating signals at the level of mRNA, as measured in naRNA, 30min or 60min labeled 4sU RNA, or steady-state RNA. The remaining steady-state eQTLs that do not have hQTL signal likely function during or shortly after transcription, as the effects of an additional 24% of steady-state eQTLs are also detected in 30min 4sU-labeled RNA (𝜋1=0.91). Thus, we estimate that at least 24% of eQTLs function post-transcriptionally. This estimate is robust to various statistical thresholds for identification of eQTLs, though we acknowledge that interpretations of QTL sharing may be overestimated if distinct signals are in linkage disequilibrium. To better interpret molecular mechanisms of eQTLs while accounting for linkage disequilibrium, we performed a multi-trait colocalization analysis to identify molecular QTLs that likely share causal variants. For example, at the CCHRC1 locus, we identify an eQTL, an hQTL and an sQTL. While both the sQTL and hQTL are nominally significant for an eQTL association, colocalization analysis reveals that only the hQTL and eQTL are likely caused by the same genetic variant (posterior probability of full colocalization, PPFC > 0.5).\\n\\nThis suggests that transcriptional regulation explains the eQTL effect, while the sQTL constitutes a distinct genetic effect that does not explain the primary eQTL signal. Across all 3,970 steady-state RNA eQTLs, we find 831 (~20%) colocalized with an hQTL (PPFC>0.5). We do not interpret this to suggest that only 20% of eQTLs are caused by transcriptional regulation, but rather that 20% represents a lower limit of the degree of transcriptional regulation. Nevertheless, we reasoned that the abundance of eQTL colocalizations with hQTLs relative to their colocalizations with other molecular QTLs may be informative. For example, when considering eQTLs that colocalized with any molQTL we tested, 62% colocalized to an hQTL. Among the remaining 38%, which we hereafter refer to as “post-transcriptional eQTLs”, nearly half colocalized with an sQTL, suggesting that AS may be a major contributor to inter-individual variation in gene expression levels. By comparison, alternative polyadenylation QTLs (apaQTLs) colocalized with only ~5% of the non-hQTL colocalizations, suggesting that alternative polyadenylation plays a comparatively minor role.', metadata={'source': 'data/sqtl.txt'}),\n",
       " Document(page_content='CHAO DAI\\n\\nNew York, NY E-mail: cd2620@nyu.edu Mobile: (917) 825-7887\\n\\nRESEARCH EXPERIENCE\\n\\nNew York Genome Center (the Sanjana Lab) Research Graduate Student Oct 2018 – Present, New York, NY\\n\\nCollaborated with senior scientists on several research projects on regulatory elements in human cancer and neuron differentiations.\\n\\nLed several computational and bioinformatic development projects. Developed an in-house Tn5 based RNA-seq library preparation protocol.\\n\\nProject 1: Essential transcription factors for human cortical neuron differentiation – Used CRISPR perturbation to screen 1,891 human transcription factors in neuron cells produced from Neurogenin over-expressed human embryonic stem cells. Further investigated chromatin accessibility and gene expression, using time differentiated ATAC-seq and RNA-seq experiments and proposed regulatory pathways of neuron differentiation.\\n\\nProject 2: Detect gene fusion using Nanopore long read sequencing – Sequenced the transcriptome and genomic DNA libraries of breast cancer cell line MDA-MB-231 using long read sequencing. Built a bioinformatic pipeline to process dataset from long read sequencing technologies (Nanopore and PacBio). Developed a novel approach with custom scripts that utilizes chimeric fragments of transcriptome and genomic DNA sequences to identify large structural variants and gene fusion events.\\n\\nProject 3: RNA-seq Protocol Using In-House Tn5 Transposase – Developed full-length and 3’ enriched RNA-seq protocols with in-house developed Tn5 transposase. Cultured human breast cancer MDA-MB-231 cells and human embryonic kidney 293 (HEK-293) cells and prepared RNA-seq libraries using developed protocols. Developed a computational pipeline that runs from alignment to downstream differential gene expression analysis and enrichment analysis.\\n\\nAbstracts & Conferences\\n\\nC. Lu, C. Dai, T. Roush, N. Liscovitch-Brauer, N. Sanjana Essential transcription factors for human cortical neuron differentiation. Cell Symposia, San Francisco, March 2020\\n\\nWORK EXPERIENCE\\n\\nDotdash Director, Revenue and Operations\\n\\nManaged the operations of programmatic advertising across about.com and subsidiary websites. Developed new data science approaches to\\n\\nsignificantly improve the accuracy and efficiency of reporting and analytics.\\n\\nLed a team of analysts and data scientists to overhaul data infrastructure and established comprehensive data models that integrated data from\\n\\nvarious data sources such as Google Analytics and Amazon Web Services. Analyzed trends and built robust forecasting models to guide financial planning, product strategy, and sales initiatives.\\n\\nThe Weather Company Manager, Revenue and Operations Jan 2014 – Jun 2016, New York, NY\\n\\nLed a team of analysts to design, develop, and maintain a suite of business insights dashboards and KPIs. Developed sophisticated web traffic and revenue forecast models that greatly minimized unmatched demands and provided valuable insights for product development team to\\n\\nbalance user experience and monetization.\\n\\nLed industry studies to evaluate industry landscape and researched emerging technological and consumer behavior trends. Evaluated major\\n\\nadvertising technology vendors and proposed potential partners.\\n\\nIBM Corporation Senior Consultant Apr 2012 – Jan 2014, New York, NY\\n\\nConsulted with Fortune 500 clients in retail, CPG, consumer electronics, and financial services. Analyzed client’s technology, data infrastructure, and analytics capabilities. Managed project scope, timeline, resource, and communicated efficiently among project\\n\\nstakeholders.\\n\\nCollaborated with cross-functional teams in research, data science, and software development. Led projects in strategy, software development,\\n\\ncase studies, data science and analytics.\\n\\nMEC, WPP Group Media Planner Siemens China Application Engineer\\n\\nNEW YORK UNVIERSITY\\n\\nMaster of Science - Biology\\n\\nEDUCATION\\n\\nJul 2007 – May 2008, Shanghai, China Jul 2005 – Feb 2007, Beijing, China', metadata={'source': 'data/CHAO_DAI_cv.txt'}),\n",
       " Document(page_content='MEC, WPP Group Media Planner Siemens China Application Engineer\\n\\nNEW YORK UNVIERSITY\\n\\nMaster of Science - Biology\\n\\nEDUCATION\\n\\nJul 2007 – May 2008, Shanghai, China Jul 2005 – Feb 2007, Beijing, China\\n\\nNew York, NY Sep 2018 – Jan 2020\\n\\nPittsburgh, PA Aug 2009 – May 2011\\n\\nWuhan, China Sep 2001 – Jul 2005\\n\\nThree-time award winner of the master’s research grant\\n\\nHonored speaker at the dean’s luncheon at the NYU 2019 alumni weekend\\n\\nCARNEGIE MELLON UNIVERSITY, TEPPER SCHOOL OF BUSINESS\\n\\nMaster of Business Administration – MBA (Strategy, Technology, Analytics), with distinction\\n\\nHUAZHONG UNIVERSITY OF SCIENCE AND TECHNOLOGY\\n\\nBachelor of Engineering – E.E.\\n\\nRESEARCH SKILLS\\n\\nComputational Skills: R (advanced), Python (advanced), Shell/Linux (advanced), SQL (proficient), Machine Learning (advanced),\\n\\nMATLAB (proficient), NGS pipeline, CHIP-seq analysis, ATAC-seq analysis (bulk & single cell), RNA-seq analysis (bulk & single cell), Differential gene expression analysis, Enrichment analysis, Genomic structural variants analysis\\n\\nWet Lab Skills: cell culture, RNA extraction, DNA extraction, RNA-seq library preparation, qPCR, SPRI\\n\\nLanguages: Chinese (native), English (fluent)\\n\\nJun 2016 – Feb 2017, New York, NY', metadata={'source': 'data/CHAO_DAI_cv.txt'})]"
      ]
     },
     "execution_count": 42,
     "metadata": {},
     "output_type": "execute_result"
    }
   ],
   "source": [
    "docs"
   ]
  },
  {
   "cell_type": "code",
   "execution_count": 43,
   "metadata": {},
   "outputs": [],
   "source": [
    "from langchain.text_splitter import RecursiveCharacterTextSplitter\n",
    "\n",
    "text_splitter = RecursiveCharacterTextSplitter(\n",
    "    chunk_size=1000, chunk_overlap=200, add_start_index=True\n",
    ")\n",
    "all_splits = text_splitter.split_documents(docs)"
   ]
  },
  {
   "cell_type": "code",
   "execution_count": 44,
   "metadata": {},
   "outputs": [
    {
     "data": {
      "text/plain": [
       "13"
      ]
     },
     "execution_count": 44,
     "metadata": {},
     "output_type": "execute_result"
    }
   ],
   "source": [
    "len(all_splits)"
   ]
  },
  {
   "cell_type": "code",
   "execution_count": 49,
   "metadata": {},
   "outputs": [
    {
     "name": "stdout",
     "output_type": "stream",
     "text": [
      "Pervasive effects of sQTLs on gene expression levels The prevalence of unproductive splicing, along with the observation that unproductive splicing anti-correlates with gene expression levels genomewide, predicts that genetic effects on RNA splicing would often impact RNA expression levels. To test this prediction, we used quantitative trait loci (QTL) mapping to identify genetic variants associated with expression (eQTLs) and splicing (splice junction abundance, sQTLs) in naRNA-seq, 4sU-seq and steady-state RNA-seq data. To better distinguish splicing-mediated expression effects from transcriptional effects, we mapped histone QTLs (hQTLs), reflective of variants impacting promoter and enhancer activity (H3K27ac, H3K4me1, and H3K4me3) and transcription across gene bodies (H3K36me3). In total, we identified 57,981 QTLs for 620,020 tested molecular traits. Consistent with previous work, we find a large fraction of eQTLs are explained by transcriptional regulation, as indicated by the\n"
     ]
    }
   ],
   "source": [
    "print(all_splits[0].page_content)"
   ]
  },
  {
   "cell_type": "code",
   "execution_count": 50,
   "metadata": {},
   "outputs": [
    {
     "data": {
      "text/plain": [
       "{'source': 'data/CHAO_DAI_cv.txt', 'start_index': 3572}"
      ]
     },
     "execution_count": 50,
     "metadata": {},
     "output_type": "execute_result"
    }
   ],
   "source": [
    "all_splits[10].metadata"
   ]
  },
  {
   "cell_type": "code",
   "execution_count": 51,
   "metadata": {},
   "outputs": [],
   "source": [
    "from langchain_community.vectorstores import Chroma\n",
    "from langchain_openai import OpenAIEmbeddings\n",
    "\n",
    "vectorstore = Chroma.from_documents(documents=all_splits, \n",
    "                                    embedding=OpenAIEmbeddings())"
   ]
  },
  {
   "cell_type": "code",
   "execution_count": 52,
   "metadata": {},
   "outputs": [],
   "source": [
    "retriever = vectorstore.as_retriever(search_type=\"similarity\", \n",
    "                                     search_kwargs={\"k\": 6})"
   ]
  },
  {
   "cell_type": "code",
   "execution_count": 53,
   "metadata": {},
   "outputs": [],
   "source": [
    "retrieved_docs = retriever.invoke(\n",
    "    \"what was my job in 2014?\"\n",
    "    )"
   ]
  },
  {
   "cell_type": "code",
   "execution_count": 54,
   "metadata": {},
   "outputs": [
    {
     "data": {
      "text/plain": [
       "6"
      ]
     },
     "execution_count": 54,
     "metadata": {},
     "output_type": "execute_result"
    }
   ],
   "source": [
    "len(retrieved_docs)"
   ]
  },
  {
   "cell_type": "code",
   "execution_count": 55,
   "metadata": {},
   "outputs": [
    {
     "name": "stdout",
     "output_type": "stream",
     "text": [
      "The Weather Company Manager, Revenue and Operations Jan 2014 – Jun 2016, New York, NY\n",
      "\n",
      "Led a team of analysts to design, develop, and maintain a suite of business insights dashboards and KPIs. Developed sophisticated web traffic and revenue forecast models that greatly minimized unmatched demands and provided valuable insights for product development team to\n",
      "\n",
      "balance user experience and monetization.\n",
      "\n",
      "Led industry studies to evaluate industry landscape and researched emerging technological and consumer behavior trends. Evaluated major\n",
      "\n",
      "advertising technology vendors and proposed potential partners.\n",
      "\n",
      "IBM Corporation Senior Consultant Apr 2012 – Jan 2014, New York, NY\n",
      "\n",
      "Consulted with Fortune 500 clients in retail, CPG, consumer electronics, and financial services. Analyzed client’s technology, data infrastructure, and analytics capabilities. Managed project scope, timeline, resource, and communicated efficiently among project\n",
      "\n",
      "stakeholders.\n"
     ]
    }
   ],
   "source": [
    "print(retrieved_docs[0].page_content)"
   ]
  },
  {
   "cell_type": "code",
   "execution_count": 56,
   "metadata": {},
   "outputs": [],
   "source": [
    "from langchain_openai import ChatOpenAI\n",
    "\n",
    "llm = ChatOpenAI(model_name=\"gpt-3.5-turbo\", temperature=0)"
   ]
  },
  {
   "cell_type": "code",
   "execution_count": 59,
   "metadata": {},
   "outputs": [],
   "source": [
    "from langchain import hub\n",
    "\n",
    "prompt = hub.pull(\"rlm/rag-prompt\")"
   ]
  },
  {
   "cell_type": "code",
   "execution_count": 60,
   "metadata": {},
   "outputs": [
    {
     "data": {
      "text/plain": [
       "[HumanMessage(content=\"You are an assistant for question-answering tasks. Use the following pieces of retrieved context to answer the question. If you don't know the answer, just say that you don't know. Use three sentences maximum and keep the answer concise.\\nQuestion: filler question \\nContext: filler context \\nAnswer:\")]"
      ]
     },
     "execution_count": 60,
     "metadata": {},
     "output_type": "execute_result"
    }
   ],
   "source": [
    "example_messages = prompt.invoke(\n",
    "    {\"context\": \"filler context\", \"question\": \"filler question\"}\n",
    ").to_messages()"
   ]
  },
  {
   "cell_type": "code",
   "execution_count": 61,
   "metadata": {},
   "outputs": [
    {
     "name": "stdout",
     "output_type": "stream",
     "text": [
      "You are an assistant for question-answering tasks. Use the following pieces of retrieved context to answer the question. If you don't know the answer, just say that you don't know. Use three sentences maximum and keep the answer concise.\n",
      "Question: filler question \n",
      "Context: filler context \n",
      "Answer:\n"
     ]
    }
   ],
   "source": [
    "print(example_messages[0].content)"
   ]
  },
  {
   "cell_type": "code",
   "execution_count": 62,
   "metadata": {},
   "outputs": [],
   "source": [
    "from langchain_core.output_parsers import StrOutputParser\n",
    "from langchain_core.runnables import RunnablePassthrough\n",
    "\n",
    "\n",
    "def format_docs(docs):\n",
    "    return \"\\n\\n\".join(doc.page_content for doc in docs)\n",
    "\n",
    "\n",
    "rag_chain = (\n",
    "    {\"context\": retriever | format_docs, \"question\": RunnablePassthrough()}\n",
    "    | prompt\n",
    "    | llm\n",
    "    | StrOutputParser()\n",
    ")"
   ]
  },
  {
   "cell_type": "code",
   "execution_count": 66,
   "metadata": {},
   "outputs": [
    {
     "name": "stdout",
     "output_type": "stream",
     "text": [
      "Post-transcriptional regulation refers to the processes that occur after transcription, such as alternative splicing and alternative polyadenylation, which can affect gene expression levels. It is estimated that at least 24% of eQTLs function post-transcriptionally, with alternative splicing being a major contributor to inter-individual variation in gene expression levels. Alternative polyadenylation, on the other hand, plays a comparatively minor role in post-transcriptional regulation."
     ]
    }
   ],
   "source": [
    "for chunk in rag_chain.stream(\"what is post-transcriptional regulation?\"):\n",
    "    print(chunk, end=\"\", flush=True)"
   ]
  },
  {
   "cell_type": "code",
   "execution_count": 73,
   "metadata": {},
   "outputs": [
    {
     "name": "stdout",
     "output_type": "stream",
     "text": [
      "- Project 2: Detected gene fusion using Nanopore long read sequencing in breast cancer cell line MDA-MB-231.\n",
      "- Project 3: Developed RNA-seq protocols using in-house Tn5 transposase for human breast cancer MDA-MB-231 cells and human embryonic kidney 293 (HEK-293) cells.\n",
      "- Abstract & Conference: Presented research on essential transcription factors for human cortical neuron differentiation at Cell Symposia in San Francisco.\n",
      "- Research Experience: Collaborated on research projects on regulatory elements in human cancer and neuron differentiations, including investigating chromatin accessibility and gene expression.\n",
      "- Education: Holds a Master of Science in Biology from New York University.\n"
     ]
    }
   ],
   "source": [
    "from langchain_core.prompts import PromptTemplate\n",
    "\n",
    "template = \"\"\"Use the following pieces of context to answer the question at the end.\n",
    "If you don't know the answer, just say that you don't know, don't try to make up an answer.\n",
    "Be precise and concise with your answers, but do not omit any important information.\n",
    "\n",
    "{context}\n",
    "\n",
    "Question: {question}\n",
    "\n",
    "Helpful Answer:\"\"\"\n",
    "custom_rag_prompt = PromptTemplate.from_template(template)\n",
    "\n",
    "rag_chain = (\n",
    "    {\"context\": retriever | format_docs, \"question\": RunnablePassthrough()}\n",
    "    | custom_rag_prompt\n",
    "    | llm\n",
    "    | StrOutputParser()\n",
    ")\n",
    "\n",
    "print(rag_chain.invoke(\"summarise the documents in bullet points, everything about biology\"))"
   ]
  },
  {
   "cell_type": "code",
   "execution_count": null,
   "metadata": {},
   "outputs": [],
   "source": []
  }
 ],
 "metadata": {
  "kernelspec": {
   "display_name": "ds",
   "language": "python",
   "name": "python3"
  },
  "language_info": {
   "codemirror_mode": {
    "name": "ipython",
    "version": 3
   },
   "file_extension": ".py",
   "mimetype": "text/x-python",
   "name": "python",
   "nbconvert_exporter": "python",
   "pygments_lexer": "ipython3",
   "version": "3.11.4"
  }
 },
 "nbformat": 4,
 "nbformat_minor": 2
}
